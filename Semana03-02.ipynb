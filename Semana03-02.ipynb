{
 "cells": [
  {
   "cell_type": "markdown",
   "id": "b8e09c3e",
   "metadata": {},
   "source": [
    "# Semana 03\n",
    "Kevin Andre Enrique Taipe"
   ]
  },
  {
   "cell_type": "raw",
   "id": "156b330d",
   "metadata": {},
   "source": [
    "2. Varible"
   ]
  },
  {
   "cell_type": "code",
   "execution_count": 1,
   "id": "d2781869",
   "metadata": {},
   "outputs": [],
   "source": [
    "#Siempre deben iniciar con una letra o guionabajo. (nunca con un numero y otro simbolo)"
   ]
  },
  {
   "cell_type": "code",
   "execution_count": 2,
   "id": "1d0f0b4e",
   "metadata": {},
   "outputs": [],
   "source": [
    "edad = 19\n"
   ]
  },
  {
   "cell_type": "code",
   "execution_count": 3,
   "id": "181c0a31",
   "metadata": {},
   "outputs": [
    {
     "data": {
      "text/plain": [
       "19"
      ]
     },
     "execution_count": 3,
     "metadata": {},
     "output_type": "execute_result"
    }
   ],
   "source": [
    "edad"
   ]
  },
  {
   "cell_type": "code",
   "execution_count": 4,
   "id": "40646f41",
   "metadata": {},
   "outputs": [],
   "source": [
    "nombre = \"kevin\""
   ]
  },
  {
   "cell_type": "code",
   "execution_count": 5,
   "id": "fdea9693",
   "metadata": {},
   "outputs": [
    {
     "data": {
      "text/plain": [
       "'kevin'"
      ]
     },
     "execution_count": 5,
     "metadata": {},
     "output_type": "execute_result"
    }
   ],
   "source": [
    "nombre"
   ]
  },
  {
   "cell_type": "code",
   "execution_count": 12,
   "id": "f62147a4",
   "metadata": {},
   "outputs": [],
   "source": [
    "apellido = \" Enrique Taipe\""
   ]
  },
  {
   "cell_type": "code",
   "execution_count": 7,
   "id": "40bce55f",
   "metadata": {},
   "outputs": [
    {
     "data": {
      "text/plain": [
       "'Enrique Taipe'"
      ]
     },
     "execution_count": 7,
     "metadata": {},
     "output_type": "execute_result"
    }
   ],
   "source": [
    "apellido"
   ]
  },
  {
   "cell_type": "code",
   "execution_count": 8,
   "id": "1e638bbf",
   "metadata": {},
   "outputs": [],
   "source": [
    "nombrecompleto = nombre +\" \"+ apellido"
   ]
  },
  {
   "cell_type": "code",
   "execution_count": 13,
   "id": "33e53e9d",
   "metadata": {},
   "outputs": [
    {
     "data": {
      "text/plain": [
       "'kevinEnrique Taipe'"
      ]
     },
     "execution_count": 13,
     "metadata": {},
     "output_type": "execute_result"
    }
   ],
   "source": [
    "nombrecompleto\n"
   ]
  },
  {
   "cell_type": "code",
   "execution_count": 14,
   "id": "330517fe",
   "metadata": {},
   "outputs": [
    {
     "data": {
      "text/plain": [
       "int"
      ]
     },
     "execution_count": 14,
     "metadata": {},
     "output_type": "execute_result"
    }
   ],
   "source": [
    "numero = 50 \n",
    "type(numero)"
   ]
  },
  {
   "cell_type": "code",
   "execution_count": 15,
   "id": "62e00fe7",
   "metadata": {},
   "outputs": [
    {
     "data": {
      "text/plain": [
       "str"
      ]
     },
     "execution_count": 15,
     "metadata": {},
     "output_type": "execute_result"
    }
   ],
   "source": [
    "type(nombre)"
   ]
  },
  {
   "cell_type": "code",
   "execution_count": 16,
   "id": "e9386c40",
   "metadata": {},
   "outputs": [],
   "source": [
    "talla = 1.78"
   ]
  },
  {
   "cell_type": "code",
   "execution_count": 17,
   "id": "99c4cbe7",
   "metadata": {},
   "outputs": [
    {
     "data": {
      "text/plain": [
       "float"
      ]
     },
     "execution_count": 17,
     "metadata": {},
     "output_type": "execute_result"
    }
   ],
   "source": [
    "type(talla)"
   ]
  },
  {
   "cell_type": "code",
   "execution_count": 18,
   "id": "c56809c0",
   "metadata": {},
   "outputs": [
    {
     "data": {
      "text/plain": [
       "'100'"
      ]
     },
     "execution_count": 18,
     "metadata": {},
     "output_type": "execute_result"
    }
   ],
   "source": [
    "numero = 100\n",
    "cadena = str(numero)\n",
    "cadena"
   ]
  },
  {
   "cell_type": "code",
   "execution_count": 19,
   "id": "d9344faa",
   "metadata": {},
   "outputs": [
    {
     "data": {
      "text/plain": [
       "str"
      ]
     },
     "execution_count": 19,
     "metadata": {},
     "output_type": "execute_result"
    }
   ],
   "source": [
    "type(cadena)"
   ]
  },
  {
   "cell_type": "code",
   "execution_count": 21,
   "id": "bad811fa",
   "metadata": {},
   "outputs": [
    {
     "data": {
      "text/plain": [
       "50"
      ]
     },
     "execution_count": 21,
     "metadata": {},
     "output_type": "execute_result"
    }
   ],
   "source": [
    "cadena2 = \"50\"\n",
    "numero2 = int(cadena2)\n",
    "numero2\n"
   ]
  },
  {
   "cell_type": "code",
   "execution_count": 23,
   "id": "35ac52aa",
   "metadata": {},
   "outputs": [
    {
     "data": {
      "text/plain": [
       "int"
      ]
     },
     "execution_count": 23,
     "metadata": {},
     "output_type": "execute_result"
    }
   ],
   "source": [
    "type(numero2)"
   ]
  },
  {
   "cell_type": "code",
   "execution_count": 26,
   "id": "f2e19656",
   "metadata": {},
   "outputs": [
    {
     "data": {
      "text/plain": [
       "50.0"
      ]
     },
     "execution_count": 26,
     "metadata": {},
     "output_type": "execute_result"
    }
   ],
   "source": [
    "numero3=float(cadena2)\n",
    "numero3\n"
   ]
  }
 ],
 "metadata": {
  "kernelspec": {
   "display_name": "Python 3 (ipykernel)",
   "language": "python",
   "name": "python3"
  },
  "language_info": {
   "codemirror_mode": {
    "name": "ipython",
    "version": 3
   },
   "file_extension": ".py",
   "mimetype": "text/x-python",
   "name": "python",
   "nbconvert_exporter": "python",
   "pygments_lexer": "ipython3",
   "version": "3.9.12"
  }
 },
 "nbformat": 4,
 "nbformat_minor": 5
}
