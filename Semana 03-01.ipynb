{
 "cells": [
  {
   "cell_type": "markdown",
   "id": "68b06e8d",
   "metadata": {},
   "source": [
    "# Semana03\n",
    "Kevin Andre Enrique Taipe"
   ]
  },
  {
   "cell_type": "raw",
   "id": "cd958d95",
   "metadata": {},
   "source": [
    "Temas:\n",
    "    1. Numeros\n",
    "    2. Variables\n",
    "    3. Manejo de Cadenas\n",
    "    4. Ingreso de datos por Teclado\n",
    "    5. Operadores\n",
    "    "
   ]
  },
  {
   "cell_type": "raw",
   "id": "3871df3f",
   "metadata": {},
   "source": [
    "1. Numeros"
   ]
  },
  {
   "cell_type": "code",
   "execution_count": 2,
   "id": "0f371333",
   "metadata": {},
   "outputs": [
    {
     "data": {
      "text/plain": [
       "14"
      ]
     },
     "execution_count": 2,
     "metadata": {},
     "output_type": "execute_result"
    }
   ],
   "source": [
    "9+5\n"
   ]
  },
  {
   "cell_type": "code",
   "execution_count": 3,
   "id": "260b55c2",
   "metadata": {},
   "outputs": [
    {
     "data": {
      "text/plain": [
       "72"
      ]
     },
     "execution_count": 3,
     "metadata": {},
     "output_type": "execute_result"
    }
   ],
   "source": [
    "8*9\n"
   ]
  },
  {
   "cell_type": "code",
   "execution_count": 4,
   "id": "1c8d26c8",
   "metadata": {},
   "outputs": [
    {
     "data": {
      "text/plain": [
       "190.75"
      ]
     },
     "execution_count": 4,
     "metadata": {},
     "output_type": "execute_result"
    }
   ],
   "source": [
    "1526/8\n"
   ]
  }
 ],
 "metadata": {
  "kernelspec": {
   "display_name": "Python 3 (ipykernel)",
   "language": "python",
   "name": "python3"
  },
  "language_info": {
   "codemirror_mode": {
    "name": "ipython",
    "version": 3
   },
   "file_extension": ".py",
   "mimetype": "text/x-python",
   "name": "python",
   "nbconvert_exporter": "python",
   "pygments_lexer": "ipython3",
   "version": "3.9.12"
  }
 },
 "nbformat": 4,
 "nbformat_minor": 5
}
